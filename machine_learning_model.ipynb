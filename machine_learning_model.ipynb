{
 "metadata": {
  "language_info": {
   "codemirror_mode": {
    "name": "ipython",
    "version": 3
   },
   "file_extension": ".py",
   "mimetype": "text/x-python",
   "name": "python",
   "nbconvert_exporter": "python",
   "pygments_lexer": "ipython3",
   "version": "3.8.6"
  },
  "orig_nbformat": 2,
  "kernelspec": {
   "name": "python386jvsc74a57bd001cdcb0ce522b4f68cb2d06ea81fb1a2b154cfca27994b802c5828a18eed1070",
   "display_name": "Python 3.8.6 64-bit"
  },
  "metadata": {
   "interpreter": {
    "hash": "01cdcb0ce522b4f68cb2d06ea81fb1a2b154cfca27994b802c5828a18eed1070"
   }
  }
 },
 "nbformat": 4,
 "nbformat_minor": 2,
 "cells": [
  {
   "cell_type": "code",
   "execution_count": 1,
   "metadata": {},
   "outputs": [],
   "source": [
    "import numpy as np\n",
    "import sklearn as skl\n",
    "import os\n",
    "from os import path\n",
    "import matplotlib.pyplot as plt\n",
    "import tensorflow as tf\n",
    "import cv2"
   ]
  },
  {
   "cell_type": "code",
   "execution_count": 2,
   "metadata": {},
   "outputs": [
    {
     "output_type": "stream",
     "name": "stdout",
     "text": [
      "e:\\sulaiman\\machine_learning_projects\\digit_recognition\n['.git', 'application.py', 'archive.zip', 'machine_learning_model.ipynb', 'README.md', 'testSample', 'testSet', 'trainingSample', 'trainingSet']\n"
     ]
    }
   ],
   "source": [
    "print(os.getcwd())\n",
    "print(os.listdir())"
   ]
  },
  {
   "cell_type": "code",
   "execution_count": 3,
   "metadata": {},
   "outputs": [
    {
     "output_type": "stream",
     "name": "stdout",
     "text": [
      "e:\\sulaiman\\machine_learning_projects\\digit_recognition\\trainingSet\n['0', '1', '2', '3', '4', '5', '6', '7', '8', '9']\n"
     ]
    }
   ],
   "source": [
    "os.chdir('trainingSet')\n",
    "print(os.getcwd())\n",
    "f_train = os.listdir()\n",
    "print(f_train)"
   ]
  },
  {
   "cell_type": "code",
   "execution_count": 4,
   "metadata": {},
   "outputs": [
    {
     "output_type": "stream",
     "name": "stdout",
     "text": [
      "0.....importing started:\n",
      "25%.....done\n",
      "50%.....done\n",
      "75%.....done\n",
      "100%.....done\n",
      "1.....importing started:\n",
      "25%.....done\n",
      "50%.....done\n",
      "75%.....done\n",
      "100%.....done\n",
      "2.....importing started:\n",
      "25%.....done\n",
      "50%.....done\n",
      "75%.....done\n",
      "100%.....done\n",
      "3.....importing started:\n",
      "25%.....done\n",
      "50%.....done\n",
      "75%.....done\n",
      "100%.....done\n",
      "4.....importing started:\n",
      "25%.....done\n",
      "50%.....done\n",
      "75%.....done\n",
      "100%.....done\n",
      "5.....importing started:\n",
      "25%.....done\n",
      "50%.....done\n",
      "75%.....done\n",
      "6.....importing started:\n",
      "25%.....done\n",
      "50%.....done\n",
      "75%.....done\n",
      "100%.....done\n",
      "7.....importing started:\n",
      "25%.....done\n",
      "50%.....done\n",
      "75%.....done\n",
      "100%.....done\n",
      "8.....importing started:\n",
      "25%.....done\n",
      "50%.....done\n",
      "75%.....done\n",
      "100%.....done\n",
      "9.....importing started:\n",
      "25%.....done\n",
      "50%.....done\n",
      "75%.....done\n",
      "100%.....done\n"
     ]
    }
   ],
   "source": [
    "img_dict = {}\n",
    "for letter in os.listdir():\n",
    "    print(letter +'.....importing started:')\n",
    "    img_dict[letter] = []\n",
    "    dir_list = os.listdir(letter)\n",
    "    i = 0\n",
    "    percent = 0\n",
    "    for img_dir in dir_list:\n",
    "        i = i+1\n",
    "        if i == 1000:\n",
    "            i = 0\n",
    "            percent = 25 + percent\n",
    "            print('{}%.....done'.format(percent))\n",
    "        img_dict[letter].append(cv2.imread(letter+'/'+img_dir))"
   ]
  },
  {
   "cell_type": "code",
   "execution_count": null,
   "metadata": {},
   "outputs": [],
   "source": [
    "fig = plt.figure()\n",
    "ax = fig.add_subplot(1,2,1)\n",
    "plt.imshow(img_dict['0'][150])\n",
    "ax = fig.add_subplot(1,2,2)\n",
    "plt.imshow(img_dict['1'][20])\n",
    "ax = fig.add_subplot(2,2,3)\n",
    "plt.imshow(img_dict['2'][20])"
   ]
  },
  {
   "cell_type": "code",
   "execution_count": null,
   "metadata": {},
   "outputs": [],
   "source": []
  }
 ]
}